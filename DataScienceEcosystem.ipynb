{
 "cells": [
  {
   "cell_type": "markdown",
   "id": "74485047-40bf-443c-9745-06b71ad2b46d",
   "metadata": {},
   "source": [
    "# Data Science Tools and Ecosystem"
   ]
  },
  {
   "cell_type": "markdown",
   "id": "99867de2-1354-4904-ac4c-58488cac91d2",
   "metadata": {},
   "source": [
    "In this notebook, Data Science Tools and Ecosystem are summarized."
   ]
  },
  {
   "cell_type": "markdown",
   "id": "feb91720-e67d-4bb0-9000-ef58618204b1",
   "metadata": {},
   "source": [
    "**Objectives:**\n",
    "- Add comments to code cells\n",
    "- Create markdown cells\n",
    "- Add ordered and unordered lists to markdown cells\n",
    "- Format content of markdown cells with heading styles"
   ]
  },
  {
   "cell_type": "markdown",
   "id": "022e28ac-5c60-469f-9e0d-5e7042d8d26e",
   "metadata": {},
   "source": [
    "Some of the popular languages that Data Scientists use are:\n",
    "1. Python\n",
    "2. R\n",
    "3. SQL\n",
    "4. Scala\n",
    "5. Java\n",
    "6. C++\n",
    "7. Julia\n",
    "8. JavaScript"
   ]
  },
  {
   "cell_type": "markdown",
   "id": "568cb475-74b8-4254-826e-7c275acaf037",
   "metadata": {},
   "source": [
    "Some of the commonly used libraries used by Data Scientists include:\n",
    "1. Pandas\n",
    "2. NumPy\n",
    "3. Matplotlib\n",
    "4. Scikit-learn\n",
    "5. Seaborn\n",
    "6. Keras\n",
    "7. TensorFlow\n",
    "8. PyTorch"
   ]
  },
  {
   "cell_type": "markdown",
   "id": "fe5dc33b-5dad-4db9-8026-e4f289ca7a95",
   "metadata": {},
   "source": [
    "| Data Science Tools     |\n",
    "|------------------------|\n",
    "| Jupyter Notebook       |\n",
    "| R Studio               |\n",
    "| Zeppelin               |\n",
    "| Spyder                 |\n",
    "| Anaconda               |"
   ]
  },
  {
   "cell_type": "markdown",
   "id": "5f7b07c6-42eb-49e6-95ce-f5f686f2ec0c",
   "metadata": {},
   "source": [
    "### Below are a few examples of evaluating arithmetic expressions in Python"
   ]
  },
  {
   "cell_type": "code",
   "execution_count": 8,
   "id": "0358ce77-d66e-4632-b53f-2cfccac7be90",
   "metadata": {},
   "outputs": [
    {
     "data": {
      "text/plain": [
       "17"
      ]
     },
     "execution_count": 8,
     "metadata": {},
     "output_type": "execute_result"
    }
   ],
   "source": [
    "# This a simple arithmetic expression to mutiply then add integers\n",
    "(3*4)+5"
   ]
  },
  {
   "cell_type": "code",
   "execution_count": 9,
   "id": "c18dcb27-89da-4fca-9f6d-807c7bb2101b",
   "metadata": {},
   "outputs": [
    {
     "data": {
      "text/plain": [
       "3.3333333333333335"
      ]
     },
     "execution_count": 9,
     "metadata": {},
     "output_type": "execute_result"
    }
   ],
   "source": [
    "# This will convert 200 minutes to hours by diving by 60\n",
    "200/60"
   ]
  },
  {
   "cell_type": "markdown",
   "id": "de48ce4d-0c63-43fe-b32c-e71de25cb30a",
   "metadata": {},
   "source": [
    "## Author\n",
    "Kiefer Russell Sulijanto"
   ]
  }
 ],
 "metadata": {
  "kernelspec": {
   "display_name": "Python 3 (ipykernel)",
   "language": "python",
   "name": "python3"
  },
  "language_info": {
   "codemirror_mode": {
    "name": "ipython",
    "version": 3
   },
   "file_extension": ".py",
   "mimetype": "text/x-python",
   "name": "python",
   "nbconvert_exporter": "python",
   "pygments_lexer": "ipython3",
   "version": "3.13.5"
  }
 },
 "nbformat": 4,
 "nbformat_minor": 5
}
